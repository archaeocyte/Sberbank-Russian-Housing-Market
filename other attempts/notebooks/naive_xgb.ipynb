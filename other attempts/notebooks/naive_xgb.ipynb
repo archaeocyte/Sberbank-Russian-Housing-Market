{
  "metadata": {
    "_is_fork": false,
    "language_info": {
      "name": "python",
      "version": "3.6.1",
      "mimetype": "text/x-python",
      "codemirror_mode": {
        "name": "ipython",
        "version": 3
      },
      "pygments_lexer": "ipython3",
      "nbconvert_exporter": "python",
      "file_extension": ".py"
    },
    "_change_revision": 0,
    "kernelspec": {
      "display_name": "Python 3",
      "language": "python",
      "name": "python3"
    }
  },
  "cells": [
    {
      "source": "import numpy as np\nimport pandas as pd\nfrom sklearn import model_selection, preprocessing\nimport xgboost as xgb\nimport warnings\nwarnings.filterwarnings(\"ignore\")",
      "execution_count": null,
      "cell_type": "code",
      "outputs": [],
      "metadata": {
        "_cell_guid": "7adbe232-6352-3ec1-4955-2b74f8a183bc",
        "_execution_state": "idle",
        "_uuid": "5b21fa37777db1ac83535f0394376b26d0a2001b",
        "trusted": false
      }
    },
    {
      "source": "# From here: https://www.kaggle.com/robertoruiz/sberbank-russian-housing-market/dealing-with-multicollinearity/notebook\nmacro_cols = [\"balance_trade\", \"balance_trade_growth\", \"eurrub\", \"average_provision_of_build_contract\",\n\"micex_rgbi_tr\", \"micex_cbi_tr\", \"deposits_rate\", \"mortgage_value\", \"mortgage_rate\",\n\"income_per_cap\", \"rent_price_4+room_bus\", \"museum_visitis_per_100_cap\", \"apartment_build\"]",
      "execution_count": null,
      "cell_type": "code",
      "outputs": [],
      "metadata": {
        "_cell_guid": "e7f74e6e-5cd5-f356-ea2c-59365eaca195",
        "_execution_state": "idle",
        "_uuid": "5a9da19a1e1987835abf3c824ebe8be605217d71",
        "trusted": false
      }
    },
    {
      "source": "df_train = pd.read_csv(\"../input/train.csv\", parse_dates=['timestamp'])\ndf_test = pd.read_csv(\"../input/test.csv\", parse_dates=['timestamp'])\ndf_macro = pd.read_csv(\"../input/macro.csv\", parse_dates=['timestamp'], usecols=['timestamp'] + macro_cols)\n\ndf_train.head()",
      "execution_count": null,
      "cell_type": "code",
      "outputs": [],
      "metadata": {
        "_cell_guid": "8bb3e4b7-cc38-f5ef-a767-8018c52e6297",
        "_execution_state": "idle",
        "_uuid": "1cabe20bf13eedf6307e3480a5a39b0b17ff0e0c",
        "trusted": false
      }
    },
    {
      "source": "ax = df_train['price_doc'].hist(bins=50)",
      "execution_count": null,
      "cell_type": "code",
      "outputs": [],
      "metadata": {
        "_cell_guid": "96910ed8-cc3a-59db-93f7-9c3b27f6ea5d",
        "_execution_state": "idle",
        "_uuid": "5967a483b512692d4e48f25d8a392357811eb645",
        "trusted": false
      }
    },
    {
      "source": "# ylog will be log(1+y), as suggested by https://github.com/dmlc/xgboost/issues/446#issuecomment-135555130\nylog_train_all = np.log1p(df_train['price_doc'].values)\nid_test = df_test['id']\n\ndf_train.drop(['id', 'price_doc'], axis=1, inplace=True)\ndf_test.drop(['id'], axis=1, inplace=True)\n\n# Build df_all = (df_train+df_test).join(df_macro)\nnum_train = len(df_train)\ndf_all = pd.concat([df_train, df_test])\ndf_all = pd.merge_ordered(df_all, df_macro, on='timestamp', how='left')\nprint(df_all.shape)\n\n# Add month-year\nmonth_year = (df_all.timestamp.dt.month + df_all.timestamp.dt.year * 100)\nmonth_year_cnt_map = month_year.value_counts().to_dict()\ndf_all['month_year_cnt'] = month_year.map(month_year_cnt_map)\n\n# Add week-year count\nweek_year = (df_all.timestamp.dt.weekofyear + df_all.timestamp.dt.year * 100)\nweek_year_cnt_map = week_year.value_counts().to_dict()\ndf_all['week_year_cnt'] = week_year.map(week_year_cnt_map)\n\n# Add month and day-of-week\ndf_all['month'] = df_all.timestamp.dt.month\ndf_all['dow'] = df_all.timestamp.dt.dayofweek\n\n# Other feature engineering\ndf_all['rel_floor'] = df_all['floor'] / df_all['max_floor'].astype(float)\ndf_all['rel_kitch_sq'] = df_all['kitch_sq'] / df_all['full_sq'].astype(float)\n\n# Remove timestamp column (may overfit the model in train)\ndf_all.drop(['timestamp'], axis=1, inplace=True)",
      "execution_count": null,
      "cell_type": "code",
      "outputs": [],
      "metadata": {
        "_cell_guid": "198b4ae5-6974-8012-f84e-b2067ee34a82",
        "_execution_state": "idle",
        "_uuid": "58fee66b6cc7f16edb6e2ded2e141e583ec1384f",
        "trusted": false
      }
    },
    {
      "source": " # max_floor cleaning\nbad_index = df_all[df_all.max_floor > 57].index\ndf_all.loc[bad_index, 'max_floor'] = np.NAN\nbad_index = df_all[df_all.max_floor == 0].index\ndf_all.loc[bad_index, 'max_floor'] = np.NAN\nbad_index = df_all[(df_all.floor > 1) & (df_all.max_floor == 1)].index\ndf_all.loc[bad_index, 'max_floor'] = np.NAN\nbad_index = df_all[df_all.floor > df_all.max_floor].index\ndf_all.loc[bad_index, 'max_floor'] = np.NAN\n\n# build_year cleaning\nwrong_index = df_all[df_all.build_year == 1691].index\ndf_all.loc[wrong_index, 'build_year'] = 1961\nwrong_index = df_all[df_all.build_year == 215].index\ndf_all.loc[wrong_index, 'build_year'] = 2015\nwrong_index = df_all[df_all.build_year == 4965].index\ndf_all.loc[wrong_index, 'build_year'] = 1965\nwrong_index = df_all[df_all.build_year == 20].index\ndf_all.loc[wrong_index, 'build_year'] = 2014\nwrong_index = df_all[df_all.build_year == 20052009].index\ndf_all.loc[wrong_index, 'build_year'] = 2009\nwrong_index = df_all[df_all.build_year == 0].index\ndf_all.loc[wrong_index, 'build_year'] = np.NAN\nwrong_index = df_all[df_all.build_year == 1].index\ndf_all.loc[wrong_index, 'build_year'] = np.NAN\nwrong_index = df_all[df_all.build_year == 71].index\ndf_all.loc[wrong_index, 'build_year'] = np.NAN\nwrong_index = df_all[df_all.build_year == 3].index\ndf_all.loc[wrong_index[0], 'build_year'] = 2013\ndf_all.loc[wrong_index[1], 'build_year'] = 1960\n\n# full_sq cleaning\nwrong_index = df_all[df_all.full_sq == 5326].index\ndf_all.loc[wrong_index, 'full_sq'] = 53\nwrong_index = df_all[df_all.full_sq == 603].index\ndf_all.loc[wrong_index, 'full_sq'] = 60\nwrong_index = df_all[df_all.full_sq == 412].index\ndf_all.loc[wrong_index, 'full_sq'] = 41\nwrong_index = df_all[df_all.full_sq == 407].index\ndf_all.loc[wrong_index, 'full_sq'] = 40\nwrong_index = df_all[df_all.full_sq == 403].index\ndf_all.loc[wrong_index, 'full_sq'] = 40\nwrong_index = df_all[df_all.full_sq == 394].index\ndf_all.loc[wrong_index, 'full_sq'] = 39\nwrong_index = df_all[df_all.full_sq == 388].index\ndf_all.loc[wrong_index, 'full_sq'] = 39\nwrong_index = df_all[df_all.full_sq == 353].index\ndf_all.loc[wrong_index, 'full_sq'] = 35\nwrong_index = df_all[df_all.full_sq < 10].index\ndf_all.loc[wrong_index, 'full_sq'] = np.NAN\nwrong_index = df_all[df_all.full_sq > 1000].index\ndf_all.loc[wrong_index, 'full_sq'] /= 100\nwrong_index = df_all[df_all.full_sq > 250].index\ndf_all.loc[wrong_index, 'full_sq'] /= 10",
      "execution_count": null,
      "cell_type": "code",
      "outputs": [],
      "metadata": {
        "_cell_guid": "bb54a4d4-0b80-4083-8243-f5c8658a780a",
        "collapsed": false,
        "_execution_state": "idle",
        "_uuid": "f112c1b9d70ea806bb59973f17c551333eeafcc2",
        "trusted": false
      }
    },
    {
      "source": "\n",
      "execution_count": null,
      "cell_type": "code",
      "outputs": [],
      "metadata": {
        "_cell_guid": "908c05b4-42e4-4e9c-ae80-4c341d7e4bf7",
        "collapsed": false,
        "_execution_state": "idle",
        "_uuid": "27ab0a103a7136add1e5b74b25d0b97599534cb9",
        "trusted": false
      }
    },
    {
      "source": "# Deal with categorical values\ndf_numeric = df_all.select_dtypes(exclude=['object'])\ndf_obj = df_all.select_dtypes(include=['object']).copy()\n\nfor c in df_obj:\n    df_obj[c] = pd.factorize(df_obj[c])[0]\n\ndf_values = pd.concat([df_numeric, df_obj], axis=1)",
      "execution_count": null,
      "cell_type": "code",
      "outputs": [],
      "metadata": {
        "_cell_guid": "19ded44b-38e7-e3e1-bc6a-e2cadf80131a",
        "_execution_state": "idle",
        "_uuid": "4b7cace58b8fa944129ac2d38db44f41d4da12d9",
        "trusted": false
      }
    },
    {
      "source": "# Convert to numpy values\nX_all = df_values.values\nprint(X_all.shape)\n\n# Create a validation set, with last 20% of data\nnum_val = int(num_train * 0.2)\n\nX_train_all = X_all[:num_train]\nX_train = X_all[:num_train-num_val]\nX_val = X_all[num_train-num_val:num_train]\nylog_train = ylog_train_all[:-num_val]\nylog_val = ylog_train_all[-num_val:]\n\nX_test = X_all[num_train:]\n\ndf_columns = df_values.columns\n\nprint('X_train_all shape is', X_train_all.shape)\nprint('X_train shape is', X_train.shape)\nprint('y_train shape is', ylog_train.shape)\nprint('X_val shape is', X_val.shape)\nprint('y_val shape is', ylog_val.shape)\nprint('X_test shape is', X_test.shape)",
      "execution_count": null,
      "cell_type": "code",
      "outputs": [],
      "metadata": {
        "_cell_guid": "550c306b-a6a5-9c89-fe73-16796a7d9c22",
        "_execution_state": "idle",
        "_uuid": "cde870a7065738bc6a5b0830a5bdae461e620f68",
        "trusted": false
      }
    },
    {
      "source": "dtrain_all = xgb.DMatrix(X_train_all, ylog_train_all, feature_names=df_columns)\ndtrain = xgb.DMatrix(X_train, ylog_train, feature_names=df_columns)\ndval = xgb.DMatrix(X_val, ylog_val, feature_names=df_columns)\ndtest = xgb.DMatrix(X_test, feature_names=df_columns)",
      "execution_count": null,
      "cell_type": "code",
      "outputs": [],
      "metadata": {
        "_cell_guid": "37cfa80a-1c83-58e9-c069-3708520bbf00",
        "_execution_state": "idle",
        "_uuid": "0d5d0b17f45204dd037f42179086d84d30163bb0",
        "trusted": false
      }
    },
    {
      "source": "xgb_params = {\n    'eta': 0.05,\n    'max_depth': 5,\n    'subsample': 1.0,\n    'colsample_bytree': 0.7,\n    'objective': 'reg:linear',\n    'eval_metric': 'rmse',\n    'silent': 1\n}\n\n# Uncomment to tune XGB `num_boost_rounds`\npartial_model = xgb.train(xgb_params, dtrain, num_boost_round=1000, evals=[(dval, 'val')],\n                       early_stopping_rounds=20, verbose_eval=20)\n\nnum_boost_round = partial_model.best_iteration",
      "execution_count": null,
      "cell_type": "code",
      "outputs": [],
      "metadata": {
        "_cell_guid": "3be5ad13-630c-f47e-c97f-0d8cd0a22097",
        "_execution_state": "idle",
        "_uuid": "c3b9b85345d71a5e63d22661c8c1bf02212dcc69",
        "trusted": false
      }
    },
    {
      "source": "fig, ax = plt.subplots(1, 1, figsize=(8, 16))\nxgb.plot_importance(partial_model, max_num_features=50, height=0.5, ax=ax)",
      "execution_count": null,
      "cell_type": "code",
      "outputs": [],
      "metadata": {
        "_cell_guid": "ee847a8a-8ac0-28a1-5523-57ca355f17b6",
        "_execution_state": "idle",
        "_uuid": "2c1d992bcfffbc5a185b04728298fa81ee8b9c7d",
        "trusted": false
      }
    },
    {
      "source": "num_boost_round = partial_model.best_iteration",
      "execution_count": null,
      "cell_type": "code",
      "outputs": [],
      "metadata": {
        "_cell_guid": "939c8841-29f4-d9b6-e1b0-201198ac0d3f",
        "_execution_state": "idle",
        "_uuid": "4439b48f9185e95a8ec3bb5f53380e2514cf2283",
        "trusted": false
      }
    },
    {
      "source": "model = xgb.train(dict(xgb_params, silent=0), dtrain_all, num_boost_round=num_boost_round)",
      "execution_count": null,
      "cell_type": "code",
      "outputs": [],
      "metadata": {
        "_cell_guid": "56ec63a2-ebfb-b2ef-4bc1-a8f4a3286852",
        "_execution_state": "idle",
        "_uuid": "1775d9b30caf83b4bf6973024a3f66665ca6994f",
        "trusted": false
      }
    },
    {
      "source": "model.save_model('naivexgb.model')",
      "execution_count": null,
      "cell_type": "code",
      "outputs": [],
      "metadata": {
        "_cell_guid": "856d901e-e210-4a36-a569-ed088414eeaa",
        "collapsed": false,
        "_execution_state": "idle",
        "_uuid": "7b4b6c91c955057f1eed932137126844e83e198c",
        "trusted": false
      }
    },
    {
      "source": "fig, ax = plt.subplots(1, 1, figsize=(8, 16))\nxgb.plot_importance(model, max_num_features=50, height=0.5, ax=ax)",
      "execution_count": null,
      "cell_type": "code",
      "outputs": [],
      "metadata": {
        "_cell_guid": "6f41459b-4a7a-039c-40fa-a8bb6a73903c",
        "_execution_state": "idle",
        "_uuid": "7348931a818e8b841ddda2ab57766bf2395032e2",
        "trusted": false
      }
    },
    {
      "source": "ylog_pred = model.predict(dtest)\ny_pred = np.exp(ylog_pred) - 1\n\ndf_sub = pd.DataFrame({'id': id_test, 'price_doc': y_pred})\n\ndf_sub.to_csv('sub.csv', index=False)",
      "execution_count": null,
      "cell_type": "code",
      "outputs": [],
      "metadata": {
        "_cell_guid": "76c7e814-ffdd-afa8-19aa-585df067d48b",
        "_execution_state": "idle",
        "_uuid": "e8e5b4dd92d927faea365745b036512ac6eb9355",
        "trusted": false
      }
    },
    {
      "source": "dtrain = xgb.DMatrix(X_train_all, feature_names=df_columns)\ndtest = xgb.DMatrix(X_test, feature_names=df_columns)\n\nnaive_train_pred = pd.DataFrame({'price_doc': model.predict(dtrain)})\nnaive_train_pred = np.exp(naive_train_pred) - 1\nnaive_train_pred.to_csv('naive_train_pred.csv')\ndf_sub.to_csv('naive_test_pred.csv', index = False)",
      "execution_count": null,
      "cell_type": "code",
      "outputs": [],
      "metadata": {
        "_cell_guid": "41e63d08-83e4-4306-b5a0-dcab9b443be6",
        "collapsed": false,
        "_execution_state": "idle",
        "_uuid": "2bbe2b3f754e6c5bf56c72737d4c6aea373e2dc0",
        "trusted": false
      }
    }
  ],
  "nbformat_minor": 0,
  "nbformat": 4
}